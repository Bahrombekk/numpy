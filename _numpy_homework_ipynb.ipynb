{
  "nbformat": 4,
  "nbformat_minor": 0,
  "metadata": {
    "colab": {
      "provenance": [],
      "include_colab_link": true
    },
    "kernelspec": {
      "name": "python3",
      "display_name": "Python 3"
    },
    "language_info": {
      "name": "python"
    }
  },
  "cells": [
    {
      "cell_type": "markdown",
      "metadata": {
        "id": "view-in-github",
        "colab_type": "text"
      },
      "source": [
        "<a href=\"https://colab.research.google.com/github/Bahrombekk/numpy/blob/main/_numpy_homework_ipynb.ipynb\" target=\"_parent\"><img src=\"https://colab.research.google.com/assets/colab-badge.svg\" alt=\"Open In Colab\"/></a>"
      ]
    },
    {
      "cell_type": "markdown",
      "metadata": {
        "id": "-9kneZwz0_KN"
      },
      "source": [
        "### Create array"
      ]
    },
    {
      "cell_type": "markdown",
      "metadata": {
        "id": "e-onbxVxUct6"
      },
      "source": [
        "# Numerical Python"
      ]
    },
    {
      "cell_type": "code",
      "source": [
        "import numpy as np"
      ],
      "metadata": {
        "id": "9tfZVBXmRIKV"
      },
      "execution_count": null,
      "outputs": []
    },
    {
      "cell_type": "code",
      "metadata": {
        "id": "mWdCLD26x4Ex",
        "colab": {
          "base_uri": "https://localhost:8080/"
        },
        "outputId": "68b0aedf-15a7-432d-823c-69f9a746333b"
      },
      "source": [
        "def list_arr(list1):\n",
        "  '''\n",
        "  Convert list the array\n",
        "  '''\n",
        "  return np.array(list1)\n",
        "list1=[1,2,3,4,5]\n",
        "list_arr(list1)"
      ],
      "execution_count": null,
      "outputs": [
        {
          "output_type": "execute_result",
          "data": {
            "text/plain": [
              "array([1, 2, 3, 4, 5])"
            ]
          },
          "metadata": {},
          "execution_count": 2
        }
      ]
    },
    {
      "cell_type": "code",
      "metadata": {
        "id": "CXyhN3Dn3Ltl",
        "colab": {
          "base_uri": "https://localhost:8080/"
        },
        "outputId": "3a38774d-4667-4314-b00d-630475de4aeb"
      },
      "source": [
        "def even_array(lst):\n",
        "  '''\n",
        "  Convert only even items to array\n",
        "  '''\n",
        "  l1=[]\n",
        "  for i in lst:\n",
        "    if i%2==0:\n",
        "      l1.append(i)\n",
        "  return np.array(l1)\n",
        "even_array([1,2,3,4,5,6,7])"
      ],
      "execution_count": null,
      "outputs": [
        {
          "output_type": "execute_result",
          "data": {
            "text/plain": [
              "array([2, 4, 6])"
            ]
          },
          "metadata": {},
          "execution_count": 3
        }
      ]
    },
    {
      "cell_type": "markdown",
      "metadata": {
        "id": "ycMCv_Vd-yIa"
      },
      "source": [
        "## Numpy array properties\n"
      ]
    },
    {
      "cell_type": "code",
      "metadata": {
        "id": "XAFdLhfXf8G1",
        "colab": {
          "base_uri": "https://localhost:8080/"
        },
        "outputId": "75fe4335-10f7-43eb-e16a-c5f0c021a608"
      },
      "source": [
        "def arry_1D():\n",
        "  '''\n",
        "  Create any 1D array \n",
        "  '''\n",
        "  lst = [1,2,3,4,5]\n",
        "  # CODE\n",
        "  return np.array(lst)\n",
        "arry_1D()\n",
        "  "
      ],
      "execution_count": null,
      "outputs": [
        {
          "output_type": "execute_result",
          "data": {
            "text/plain": [
              "array([1, 2, 3, 4, 5])"
            ]
          },
          "metadata": {},
          "execution_count": 4
        }
      ]
    },
    {
      "cell_type": "code",
      "metadata": {
        "id": "kRzgmVF7gNLv",
        "colab": {
          "base_uri": "https://localhost:8080/"
        },
        "outputId": "65f06dae-5a85-4133-cf7e-a7a124748596"
      },
      "source": [
        "def arry_2D():\n",
        "  '''\n",
        "  Create any 2D array \n",
        "  '''\n",
        "  lst =[[1,2,3,4],[5,6,7,8]]\n",
        "  # CODE\n",
        "  return np.array(lst)\n",
        "arry_2D()"
      ],
      "execution_count": null,
      "outputs": [
        {
          "output_type": "execute_result",
          "data": {
            "text/plain": [
              "array([[1, 2, 3, 4],\n",
              "       [5, 6, 7, 8]])"
            ]
          },
          "metadata": {},
          "execution_count": 5
        }
      ]
    },
    {
      "cell_type": "code",
      "metadata": {
        "id": "2Fk_qXQ-gSbG",
        "colab": {
          "base_uri": "https://localhost:8080/"
        },
        "outputId": "01a2cd4c-f651-436c-8af9-001c7d8402d4"
      },
      "source": [
        "def arry_3D():\n",
        "  '''\n",
        "  Create any 3D array \n",
        "  '''\n",
        "  lst = [[1,2,3,4],[5,6,7,8],[4,8,9,6]]\n",
        "  # CODE\n",
        "  return np.array(lst)\n",
        "arry_3D()"
      ],
      "execution_count": null,
      "outputs": [
        {
          "output_type": "execute_result",
          "data": {
            "text/plain": [
              "array([[1, 2, 3, 4],\n",
              "       [5, 6, 7, 8],\n",
              "       [4, 8, 9, 6]])"
            ]
          },
          "metadata": {},
          "execution_count": 6
        }
      ]
    },
    {
      "cell_type": "markdown",
      "metadata": {
        "id": "UF_8q1iwADSL"
      },
      "source": [
        "### The shape of the array\n",
        " **shape**  - Return the shape of an array.\t\t\t\t\t\n",
        " **Returns**: tuple of ints\n",
        "\n"
      ]
    },
    {
      "cell_type": "code",
      "metadata": {
        "id": "5NUwcKfwgnkw",
        "colab": {
          "base_uri": "https://localhost:8080/"
        },
        "outputId": "3832d983-a497-4734-c196-ac5ccc80a848"
      },
      "source": [
        "def arry_3x3():\n",
        "  '''\n",
        "  Create any 3x3 array \n",
        "  '''\n",
        "  lst = [[1,2,3],\n",
        "         [4,5,6],\n",
        "         [7,8,9]]\n",
        "  # CODE\n",
        "  return np.array(lst)\n",
        "arry_3x3()"
      ],
      "execution_count": null,
      "outputs": [
        {
          "output_type": "execute_result",
          "data": {
            "text/plain": [
              "array([[1, 2, 3],\n",
              "       [4, 5, 6],\n",
              "       [7, 8, 9]])"
            ]
          },
          "metadata": {},
          "execution_count": 7
        }
      ]
    },
    {
      "cell_type": "code",
      "metadata": {
        "id": "4o9OhDoeg2da",
        "colab": {
          "base_uri": "https://localhost:8080/"
        },
        "outputId": "51523d82-3367-4c72-c706-256c0038b1bc"
      },
      "source": [
        "def arry_2x3(lst):\n",
        "  '''\n",
        "  Create lst to 2x3 array \n",
        "  return 1D\n",
        "  '''\n",
        "  # CODE\n",
        "  return np.array(lst)\n",
        "lst =[[2,3,4],\n",
        "         [5,6,7]]\n",
        "arry_2x3(lst)"
      ],
      "execution_count": null,
      "outputs": [
        {
          "output_type": "execute_result",
          "data": {
            "text/plain": [
              "array([[2, 3, 4],\n",
              "       [5, 6, 7]])"
            ]
          },
          "metadata": {},
          "execution_count": 8
        }
      ]
    },
    {
      "cell_type": "markdown",
      "metadata": {
        "id": "DTjscAaWCOBK"
      },
      "source": [
        "## The dtype of the array\n"
      ]
    },
    {
      "cell_type": "markdown",
      "metadata": {
        "id": "unlU5QsIhRA6"
      },
      "source": [
        "### np.int8"
      ]
    },
    {
      "cell_type": "code",
      "metadata": {
        "id": "MG-KNzyMiCfS",
        "colab": {
          "base_uri": "https://localhost:8080/"
        },
        "outputId": "42e0cd25-82f6-49b1-9913-81343044e099"
      },
      "source": [
        "def array_dtype_int8(lst):\n",
        "  '''\n",
        "  Create an array dtype int8\n",
        "  return nD array\n",
        "  '''\n",
        "  l=np.array(lst,dtype=np.int8)\n",
        "  return l\n",
        "\n",
        "array_dtype_int8([5,200])"
      ],
      "execution_count": null,
      "outputs": [
        {
          "output_type": "execute_result",
          "data": {
            "text/plain": [
              "array([  5, -56], dtype=int8)"
            ]
          },
          "metadata": {},
          "execution_count": 9
        }
      ]
    },
    {
      "cell_type": "markdown",
      "metadata": {
        "id": "GKy26IGeh2lH"
      },
      "source": [
        "### np.int16"
      ]
    },
    {
      "cell_type": "code",
      "metadata": {
        "id": "fZASIKEkAxKO",
        "colab": {
          "base_uri": "https://localhost:8080/"
        },
        "outputId": "789aad31-3bf7-43fd-8963-4c4e9116eeef"
      },
      "source": [
        "def array_dtype_int16(lst):\n",
        "  '''\n",
        "  Create an array dtype int16\n",
        "  return nD array\n",
        "  '''\n",
        "  l=np.array(lst,dtype=np.int16)\n",
        "  return l\n",
        "lst=[1,6000,70000]\n",
        "array_dtype_int16(lst)"
      ],
      "execution_count": null,
      "outputs": [
        {
          "output_type": "execute_result",
          "data": {
            "text/plain": [
              "array([   1, 6000, 4464], dtype=int16)"
            ]
          },
          "metadata": {},
          "execution_count": 10
        }
      ]
    },
    {
      "cell_type": "code",
      "metadata": {
        "id": "4TYmDlh0iDV9"
      },
      "source": [],
      "execution_count": null,
      "outputs": []
    },
    {
      "cell_type": "markdown",
      "metadata": {
        "id": "meZra9WMh2uM"
      },
      "source": [
        "### np.float"
      ]
    },
    {
      "cell_type": "code",
      "metadata": {
        "id": "QZ-oPh5XiD5O",
        "colab": {
          "base_uri": "https://localhost:8080/"
        },
        "outputId": "d10937cd-ddac-4f35-ed29-cd5bfdb534bb"
      },
      "source": [
        "def array_dtype_float(lst):\n",
        "  '''\n",
        "  Create an array dtype float\n",
        "  return nD array\n",
        "  '''\n",
        "  l=np.array(lst,dtype=float)\n",
        "  return l\n",
        "lst=[1,3,5000,1000]\n",
        "array_dtype_float(lst)"
      ],
      "execution_count": null,
      "outputs": [
        {
          "output_type": "execute_result",
          "data": {
            "text/plain": [
              "array([1.e+00, 3.e+00, 5.e+03, 1.e+03])"
            ]
          },
          "metadata": {},
          "execution_count": 13
        }
      ]
    },
    {
      "cell_type": "markdown",
      "metadata": {
        "id": "73KU9OFOh201"
      },
      "source": [
        "### np.bool"
      ]
    },
    {
      "cell_type": "code",
      "metadata": {
        "id": "pjm22u5rh1Dp",
        "colab": {
          "base_uri": "https://localhost:8080/"
        },
        "outputId": "c372004a-7b9b-439e-c8f0-db1dcd878a02"
      },
      "source": [
        "def array_dtype_bool(lst):\n",
        "  '''\n",
        "  Create array dtype bool\n",
        "  return nD array\n",
        "  '''\n",
        "  l=np.array(lst,dtype=np.bool8)\n",
        "  return l\n",
        "lst=[0,1,2]\n",
        "array_dtype_bool(lst)"
      ],
      "execution_count": null,
      "outputs": [
        {
          "output_type": "execute_result",
          "data": {
            "text/plain": [
              "array([False,  True,  True])"
            ]
          },
          "metadata": {},
          "execution_count": 14
        }
      ]
    },
    {
      "cell_type": "markdown",
      "metadata": {
        "id": "YATQKjxUK3Rv"
      },
      "source": [
        "# Creating Arrays"
      ]
    },
    {
      "cell_type": "markdown",
      "metadata": {
        "id": "JHobfj2yLLbW"
      },
      "source": [
        "### np.arange"
      ]
    },
    {
      "cell_type": "code",
      "metadata": {
        "id": "XnAfsDQwLEMG",
        "colab": {
          "base_uri": "https://localhost:8080/"
        },
        "outputId": "4677a805-356d-4887-a755-c063520480c9"
      },
      "source": [
        "def arange_1D_arr():\n",
        "  '''\n",
        "  Create any 1D array\n",
        "  return array\n",
        "  '''\n",
        "  x=np.arange(1,9)\n",
        "  return x\n",
        "arange_1D_arr()"
      ],
      "execution_count": null,
      "outputs": [
        {
          "output_type": "execute_result",
          "data": {
            "text/plain": [
              "array([1, 2, 3, 4, 5, 6, 7, 8])"
            ]
          },
          "metadata": {},
          "execution_count": 15
        }
      ]
    },
    {
      "cell_type": "code",
      "metadata": {
        "id": "mSZcdvWXMjQt",
        "colab": {
          "base_uri": "https://localhost:8080/"
        },
        "outputId": "96357045-a9a5-48bd-f450-99b3a21651ad"
      },
      "source": [
        "def arrange_array(n):\n",
        "  '''\n",
        "  Create any array from 0 to n\n",
        "  return array\n",
        "  '''\n",
        "  return np.arange(0,n+1)\n",
        "arrange_array(8)"
      ],
      "execution_count": null,
      "outputs": [
        {
          "output_type": "execute_result",
          "data": {
            "text/plain": [
              "array([0, 1, 2, 3, 4, 5, 6, 7, 8])"
            ]
          },
          "metadata": {},
          "execution_count": 19
        }
      ]
    },
    {
      "cell_type": "markdown",
      "metadata": {
        "id": "S9gI0F69LaUt"
      },
      "source": [
        "### np.linspace"
      ]
    },
    {
      "cell_type": "code",
      "metadata": {
        "id": "L-rRhP6lLgMn",
        "colab": {
          "base_uri": "https://localhost:8080/"
        },
        "outputId": "c7951928-504a-4d10-ac1c-97f0e256c6be"
      },
      "source": [
        "def linspace_arr(n):\n",
        "  '''\n",
        "  Create an array of the range 0 and n divided by 10\n",
        "  return array\n",
        "  '''\n",
        "  return np.linspace(0,10)\n",
        "linspace_arr(9)"
      ],
      "execution_count": null,
      "outputs": [
        {
          "output_type": "execute_result",
          "data": {
            "text/plain": [
              "array([ 0.        ,  0.20408163,  0.40816327,  0.6122449 ,  0.81632653,\n",
              "        1.02040816,  1.2244898 ,  1.42857143,  1.63265306,  1.83673469,\n",
              "        2.04081633,  2.24489796,  2.44897959,  2.65306122,  2.85714286,\n",
              "        3.06122449,  3.26530612,  3.46938776,  3.67346939,  3.87755102,\n",
              "        4.08163265,  4.28571429,  4.48979592,  4.69387755,  4.89795918,\n",
              "        5.10204082,  5.30612245,  5.51020408,  5.71428571,  5.91836735,\n",
              "        6.12244898,  6.32653061,  6.53061224,  6.73469388,  6.93877551,\n",
              "        7.14285714,  7.34693878,  7.55102041,  7.75510204,  7.95918367,\n",
              "        8.16326531,  8.36734694,  8.57142857,  8.7755102 ,  8.97959184,\n",
              "        9.18367347,  9.3877551 ,  9.59183673,  9.79591837, 10.        ])"
            ]
          },
          "metadata": {},
          "execution_count": 50
        }
      ]
    },
    {
      "cell_type": "markdown",
      "metadata": {
        "id": "znbfdVNlLkj5"
      },
      "source": [
        "### np.zeros"
      ]
    },
    {
      "cell_type": "code",
      "metadata": {
        "id": "Sqc4uRgiLqVm",
        "colab": {
          "base_uri": "https://localhost:8080/"
        },
        "outputId": "e297fe93-d6e7-457b-a665-01762c07e244"
      },
      "source": [
        "def array_zeros_nxm(n,m):\n",
        "  '''\n",
        "  Create an nxm array of zeros\n",
        "  return array\n",
        "  '''\n",
        "  return np.zeros((n,m))\n",
        "array_zeros_nxm(4,9)"
      ],
      "execution_count": null,
      "outputs": [
        {
          "output_type": "execute_result",
          "data": {
            "text/plain": [
              "array([[0., 0., 0., 0., 0., 0., 0., 0., 0.],\n",
              "       [0., 0., 0., 0., 0., 0., 0., 0., 0.],\n",
              "       [0., 0., 0., 0., 0., 0., 0., 0., 0.],\n",
              "       [0., 0., 0., 0., 0., 0., 0., 0., 0.]])"
            ]
          },
          "metadata": {},
          "execution_count": 36
        }
      ]
    },
    {
      "cell_type": "code",
      "metadata": {
        "id": "wGbcyOfdP5z7",
        "colab": {
          "base_uri": "https://localhost:8080/"
        },
        "outputId": "14fb476f-24f9-42e2-89b9-cef20fb909fe"
      },
      "source": [
        "def array_zeros_3D():\n",
        "  '''\n",
        "  Create any an 3D array of zeros\n",
        "  return 3D array\n",
        "  ''' \n",
        "  return np.zeros(3)\n",
        "array_zeros_3D()"
      ],
      "execution_count": null,
      "outputs": [
        {
          "output_type": "execute_result",
          "data": {
            "text/plain": [
              "array([0., 0., 0.])"
            ]
          },
          "metadata": {},
          "execution_count": 41
        }
      ]
    },
    {
      "cell_type": "markdown",
      "metadata": {
        "id": "d7LLHKyuLr1T"
      },
      "source": [
        "### np.ones"
      ]
    },
    {
      "cell_type": "code",
      "metadata": {
        "id": "aOTueENZLyVY",
        "colab": {
          "base_uri": "https://localhost:8080/"
        },
        "outputId": "7eecd8d0-adda-4520-9698-30d53610fffd"
      },
      "source": [
        "def array_zeros_nxm(n,m):\n",
        "  '''\n",
        "  Create an NxM array of ones\n",
        "  return array\n",
        "  '''\n",
        "  return np.ones((n,m))\n",
        "array_zeros_nxm(3,3)"
      ],
      "execution_count": null,
      "outputs": [
        {
          "output_type": "execute_result",
          "data": {
            "text/plain": [
              "array([[1., 1., 1.],\n",
              "       [1., 1., 1.],\n",
              "       [1., 1., 1.]])"
            ]
          },
          "metadata": {},
          "execution_count": 43
        }
      ]
    },
    {
      "cell_type": "markdown",
      "metadata": {
        "id": "hh8j5x0zL3fP"
      },
      "source": [
        "### np.full"
      ]
    },
    {
      "cell_type": "code",
      "metadata": {
        "id": "y9hDs4wML5qq",
        "colab": {
          "base_uri": "https://localhost:8080/"
        },
        "outputId": "f6b7b1da-1378-4ae8-e657-ee23c0168b77"
      },
      "source": [
        "def array_full_3D(n,m,k):\n",
        "  '''\n",
        "  Create any an 3D array of seven, shape = (n,m,k)\n",
        "  return 3D array\n",
        "  ''' \n",
        "  return np.full((n,m),k)\n",
        "array_full_3D(3,3,2)"
      ],
      "execution_count": null,
      "outputs": [
        {
          "output_type": "execute_result",
          "data": {
            "text/plain": [
              "array([[2, 2, 2],\n",
              "       [2, 2, 2],\n",
              "       [2, 2, 2]])"
            ]
          },
          "metadata": {},
          "execution_count": 52
        }
      ]
    }
  ]
}