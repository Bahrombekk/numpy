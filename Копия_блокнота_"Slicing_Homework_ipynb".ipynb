{
  "nbformat": 4,
  "nbformat_minor": 0,
  "metadata": {
    "colab": {
      "provenance": [],
      "include_colab_link": true
    },
    "kernelspec": {
      "name": "python3",
      "display_name": "Python 3"
    },
    "language_info": {
      "name": "python"
    }
  },
  "cells": [
    {
      "cell_type": "markdown",
      "metadata": {
        "id": "view-in-github",
        "colab_type": "text"
      },
      "source": [
        "<a href=\"https://colab.research.google.com/github/Bahrombekk/numpy/blob/main/%D0%9A%D0%BE%D0%BF%D0%B8%D1%8F_%D0%B1%D0%BB%D0%BE%D0%BA%D0%BD%D0%BE%D1%82%D0%B0_%22Slicing_Homework_ipynb%22.ipynb\" target=\"_parent\"><img src=\"https://colab.research.google.com/assets/colab-badge.svg\" alt=\"Open In Colab\"/></a>"
      ]
    },
    {
      "cell_type": "markdown",
      "source": [
        "#Install required package and libraries"
      ],
      "metadata": {
        "id": "BmV6snMK2g8l"
      }
    },
    {
      "cell_type": "code",
      "source": [
        "!pip install git+https://github.com/codeschoolAI/numpy_slicing.git"
      ],
      "metadata": {
        "colab": {
          "base_uri": "https://localhost:8080/"
        },
        "id": "3oSKe5bi2Tbp",
        "outputId": "2b46b5d4-54e7-4dc3-8e98-953a286c89ef"
      },
      "execution_count": 1,
      "outputs": [
        {
          "output_type": "stream",
          "name": "stdout",
          "text": [
            "Looking in indexes: https://pypi.org/simple, https://us-python.pkg.dev/colab-wheels/public/simple/\n",
            "Collecting git+https://github.com/codeschoolAI/numpy_slicing.git\n",
            "  Cloning https://github.com/codeschoolAI/numpy_slicing.git to /tmp/pip-req-build-7_h_2s3h\n",
            "  Running command git clone --filter=blob:none --quiet https://github.com/codeschoolAI/numpy_slicing.git /tmp/pip-req-build-7_h_2s3h\n",
            "  Resolved https://github.com/codeschoolAI/numpy_slicing.git to commit 14741a441edae97fe08125da6a8b9b459095eb43\n",
            "  Preparing metadata (setup.py) ... \u001b[?25l\u001b[?25hdone\n",
            "Building wheels for collected packages: numpySlicingTest\n",
            "  Building wheel for numpySlicingTest (setup.py) ... \u001b[?25l\u001b[?25hdone\n",
            "  Created wheel for numpySlicingTest: filename=numpySlicingTest-0.1.0-py3-none-any.whl size=2437 sha256=10eaffdc10d7d4d38c70e99624671b5e423d75b528ab094e1e7f48ddbee0c439\n",
            "  Stored in directory: /tmp/pip-ephem-wheel-cache-luakx4k8/wheels/5f/1b/13/b9bb15bbed0ae9fdefb834fbc4fb58c3c48a132cdda26bd639\n",
            "Successfully built numpySlicingTest\n",
            "Installing collected packages: numpySlicingTest\n",
            "Successfully installed numpySlicingTest-0.1.0\n"
          ]
        }
      ]
    },
    {
      "cell_type": "code",
      "execution_count": 2,
      "metadata": {
        "id": "i1qjEHx_rDBC"
      },
      "outputs": [],
      "source": [
        "import numpy as np\n",
        "import matplotlib.pyplot as plt\n",
        "from numpySlicingTest.test import *"
      ]
    },
    {
      "cell_type": "markdown",
      "source": [
        "#Type your's github username here"
      ],
      "metadata": {
        "id": "kuAqq_Wr3A7f"
      }
    },
    {
      "cell_type": "code",
      "source": [
        "# example: github = \"ikromyusuf\"\n",
        "github ='Bahrombekk'"
      ],
      "metadata": {
        "id": "vt56398p2ugh"
      },
      "execution_count": 9,
      "outputs": []
    },
    {
      "cell_type": "markdown",
      "source": [
        "#Create that functions with their instruction"
      ],
      "metadata": {
        "id": "6EqDK9t_3T61"
      }
    },
    {
      "cell_type": "code",
      "source": [
        "def fill_ones(n,m):\n",
        "  \"\"\"\n",
        "  Create an array of NxM ones.\n",
        "\n",
        "  Args:\n",
        "    n: int\n",
        "    m: int\n",
        "  Returns:\n",
        "    np.array: 2D array\n",
        "    type: np.uint8\n",
        "  \"\"\"\n",
        "  return np.ones((n,m))\n"
      ],
      "metadata": {
        "id": "E-JfkvrWrKUF"
      },
      "execution_count": 12,
      "outputs": []
    },
    {
      "cell_type": "code",
      "source": [
        "solution = fill_ones(8,8)\n",
        "print(solution)\n",
        "q0.check(solution, github)"
      ],
      "metadata": {
        "colab": {
          "base_uri": "https://localhost:8080/"
        },
        "id": "Fe_krKiz4C51",
        "outputId": "6693ff06-a875-45ce-d663-3e99d171fad1"
      },
      "execution_count": 13,
      "outputs": [
        {
          "output_type": "stream",
          "name": "stdout",
          "text": [
            "[[1. 1. 1. 1. 1. 1. 1. 1.]\n",
            " [1. 1. 1. 1. 1. 1. 1. 1.]\n",
            " [1. 1. 1. 1. 1. 1. 1. 1.]\n",
            " [1. 1. 1. 1. 1. 1. 1. 1.]\n",
            " [1. 1. 1. 1. 1. 1. 1. 1.]\n",
            " [1. 1. 1. 1. 1. 1. 1. 1.]\n",
            " [1. 1. 1. 1. 1. 1. 1. 1.]\n",
            " [1. 1. 1. 1. 1. 1. 1. 1.]]\n",
            "✅ Accepted\n",
            "200\n"
          ]
        }
      ]
    },
    {
      "cell_type": "code",
      "source": [],
      "metadata": {
        "colab": {
          "base_uri": "https://localhost:8080/"
        },
        "id": "5NCic6H8x8bX",
        "outputId": "40a7754d-04bb-450e-9aec-e8cfaa41497b"
      },
      "execution_count": 39,
      "outputs": [
        {
          "output_type": "execute_result",
          "data": {
            "text/plain": [
              "array([[1., 1., 1., 1., 1., 1., 1., 1.],\n",
              "       [1., 1., 1., 1., 1., 1., 1., 1.],\n",
              "       [1., 1., 1., 1., 1., 1., 1., 1.],\n",
              "       [1., 1., 1., 1., 1., 1., 1., 1.],\n",
              "       [1., 1., 1., 1., 1., 1., 1., 1.],\n",
              "       [1., 1., 1., 1., 1., 1., 1., 1.],\n",
              "       [1., 1., 1., 1., 1., 1., 1., 1.],\n",
              "       [1., 1., 1., 1., 1., 1., 1., 1.]])"
            ]
          },
          "metadata": {},
          "execution_count": 39
        }
      ]
    },
    {
      "cell_type": "code",
      "source": [
        "def pattern_1(ones_array):\n",
        "  \"\"\"\n",
        "  Make a pattern\n",
        "\n",
        "  Args:\n",
        "    ones_array: A matrix filled with ones\n",
        "  returns:\n",
        "    np.array: Modified array\n",
        "  \"\"\"\n",
        "  ones_array[::,len(solution)//2::]=2\n",
        "  return ones_array\n"
      ],
      "metadata": {
        "id": "8eVuvrT8sgUW"
      },
      "execution_count": 55,
      "outputs": []
    },
    {
      "cell_type": "code",
      "source": [
        "pattern1 = pattern_1(fill_ones(8,8))\n",
        "print(pattern1)\n",
        "q1.check(pattern1, github)"
      ],
      "metadata": {
        "colab": {
          "base_uri": "https://localhost:8080/"
        },
        "id": "bH5PRnmTA_TN",
        "outputId": "b3123143-afd7-4b6f-d4da-1c200213765b"
      },
      "execution_count": 56,
      "outputs": [
        {
          "output_type": "stream",
          "name": "stdout",
          "text": [
            "[[1. 1. 1. 1. 2. 2. 2. 2.]\n",
            " [1. 1. 1. 1. 2. 2. 2. 2.]\n",
            " [1. 1. 1. 1. 2. 2. 2. 2.]\n",
            " [1. 1. 1. 1. 2. 2. 2. 2.]\n",
            " [1. 1. 1. 1. 2. 2. 2. 2.]\n",
            " [1. 1. 1. 1. 2. 2. 2. 2.]\n",
            " [1. 1. 1. 1. 2. 2. 2. 2.]\n",
            " [1. 1. 1. 1. 2. 2. 2. 2.]]\n",
            "✅ Accepted\n",
            "200\n"
          ]
        }
      ]
    },
    {
      "cell_type": "code",
      "source": [
        "plt.imshow(pattern1,cmap=\"gray\")\n",
        "plt.show()"
      ],
      "metadata": {
        "colab": {
          "base_uri": "https://localhost:8080/",
          "height": 430
        },
        "id": "xUiX9ihs5gbU",
        "outputId": "71fb3167-eb21-4f9d-da26-24b68a36692d"
      },
      "execution_count": 49,
      "outputs": [
        {
          "output_type": "display_data",
          "data": {
            "text/plain": [
              "<Figure size 640x480 with 1 Axes>"
            ],
            "image/png": "[encoded data removed]"
          },
          "metadata": {}
        }
      ]
    },
    {
      "cell_type": "code",
      "source": [
        "def pattern_2(ones_array):\n",
        "  \"\"\"\n",
        "  Make a pattern\n",
        "\n",
        "  Args:\n",
        "    ones_array: A matrix filled with ones\n",
        "  returns:\n",
        "    np.array: Modified array\n",
        "  \"\"\"\n",
        "  ones_array[len(solution)//2::,len(solution)//2::]=2\n",
        "  return ones_array"
      ],
      "metadata": {
        "id": "YwW0ghNe4MmF"
      },
      "execution_count": 57,
      "outputs": []
    },
    {
      "cell_type": "code",
      "source": [
        "pattern2 = pattern_2(fill_ones(8,8))\n",
        "print(pattern2)\n",
        "q2.check(pattern2, github)"
      ],
      "metadata": {
        "colab": {
          "base_uri": "https://localhost:8080/"
        },
        "id": "-sqfhbuHBaVc",
        "outputId": "94caf9cd-d5a4-455c-a567-ceb1951717a4"
      },
      "execution_count": 58,
      "outputs": [
        {
          "output_type": "stream",
          "name": "stdout",
          "text": [
            "[[1. 1. 1. 1. 1. 1. 1. 1.]\n",
            " [1. 1. 1. 1. 1. 1. 1. 1.]\n",
            " [1. 1. 1. 1. 1. 1. 1. 1.]\n",
            " [1. 1. 1. 1. 1. 1. 1. 1.]\n",
            " [1. 1. 1. 1. 2. 2. 2. 2.]\n",
            " [1. 1. 1. 1. 2. 2. 2. 2.]\n",
            " [1. 1. 1. 1. 2. 2. 2. 2.]\n",
            " [1. 1. 1. 1. 2. 2. 2. 2.]]\n",
            "✅ Accepted\n",
            "200\n"
          ]
        }
      ]
    },
    {
      "cell_type": "code",
      "source": [
        "plt.imshow(pattern2,cmap='gray')\n",
        "plt.show()"
      ],
      "metadata": {
        "colab": {
          "base_uri": "https://localhost:8080/",
          "height": 430
        },
        "id": "ymhxIGtK64bI",
        "outputId": "c0ffd529-839e-44da-d7c9-d79360c7e28a"
      },
      "execution_count": 59,
      "outputs": [
        {
          "output_type": "display_data",
          "data": {
            "text/plain": [
              "<Figure size 640x480 with 1 Axes>"
            ],
            "image/png": "[encoded data removed]"
          },
          "metadata": {}
        }
      ]
    },
    {
      "cell_type": "code",
      "source": [
        "def pattern_3(ones_array):\n",
        "  \"\"\"\n",
        "  Make a pattern\n",
        "\n",
        "  Args:\n",
        "    ones_array: A matrix filled with ones\n",
        "  returns:\n",
        "    np.array: Modified array\n",
        "  \"\"\"\n",
        "  ones_array[1:len(ones_array)-1:,1:len(ones_array)-1:]=2\n",
        "  return ones_array"
      ],
      "metadata": {
        "id": "HM24qndH8mh2"
      },
      "execution_count": 70,
      "outputs": []
    },
    {
      "cell_type": "code",
      "source": [
        "pattern3 = pattern_3(fill_ones(4,4))\n",
        "print(pattern3)\n",
        "q3.check(pattern3, github)"
      ],
      "metadata": {
        "colab": {
          "base_uri": "https://localhost:8080/"
        },
        "id": "3EgMwnLuBinS",
        "outputId": "b36740e4-9df3-4411-817b-63210cdb36d6"
      },
      "execution_count": 71,
      "outputs": [
        {
          "output_type": "stream",
          "name": "stdout",
          "text": [
            "[[1. 1. 1. 1.]\n",
            " [1. 2. 2. 1.]\n",
            " [1. 2. 2. 1.]\n",
            " [1. 1. 1. 1.]]\n",
            "✅ Accepted\n",
            "200\n"
          ]
        }
      ]
    },
    {
      "cell_type": "code",
      "source": [
        "plt.imshow(pattern3,cmap='gray')\n",
        "plt.show()"
      ],
      "metadata": {
        "colab": {
          "base_uri": "https://localhost:8080/",
          "height": 435
        },
        "id": "TC0EQKIVuNAs",
        "outputId": "34e5f378-738f-4ff2-c144-d610a32a36f4"
      },
      "execution_count": 72,
      "outputs": [
        {
          "output_type": "display_data",
          "data": {
            "text/plain": [
              "<Figure size 640x480 with 1 Axes>"
            ],
            "image/png": "[encoded data removed]"
          },
          "metadata": {}
        }
      ]
    },
    {
      "cell_type": "code",
      "source": [
        "def pattern_4(ones_array):\n",
        "  \"\"\"\n",
        "  Make a pattern\n",
        "\n",
        "  Args:\n",
        "    ones_array: A matrix filled with ones\n",
        "  returns:\n",
        "    np.array: Modified array\n",
        "  \"\"\"\n",
        "  ones_array[:len(ones_array)//2:,:len(ones_array)//2:]=2\n",
        "  ones_array[len(ones_array)//2:,:len(ones_array)//2:]=3\n",
        "  return ones_array"
      ],
      "metadata": {
        "id": "VRpj6KSkOGEt"
      },
      "execution_count": 82,
      "outputs": []
    },
    {
      "cell_type": "code",
      "source": [
        "pattern4 = pattern_4(fill_ones(6,6))\n",
        "print(pattern4)\n",
        "q4.check(pattern4, github)"
      ],
      "metadata": {
        "colab": {
          "base_uri": "https://localhost:8080/"
        },
        "id": "oFt8G1LMBqtu",
        "outputId": "10702c4c-2d75-4c57-e705-c40564fa5d5c"
      },
      "execution_count": null,
      "outputs": [
        {
          "output_type": "stream",
          "name": "stdout",
          "text": [
            "[[2 2 2 1 1 1]\n",
            " [2 2 2 1 1 1]\n",
            " [2 2 2 1 1 1]\n",
            " [3 3 3 1 1 1]\n",
            " [3 3 3 1 1 1]\n",
            " [3 3 3 1 1 1]]\n",
            "✅ Accepted\n",
            "500\n"
          ]
        }
      ]
    },
    {
      "cell_type": "code",
      "source": [
        "plt.imshow(pattern4,cmap='gray')\n",
        "plt.show()"
      ],
      "metadata": {
        "colab": {
          "base_uri": "https://localhost:8080/",
          "height": 430
        },
        "id": "RZKZeApJPrrz",
        "outputId": "102a52eb-6a46-45dc-8827-238f7e4e500f"
      },
      "execution_count": 83,
      "outputs": [
        {
          "output_type": "display_data",
          "data": {
            "text/plain": [
              "<Figure size 640x480 with 1 Axes>"
            ],
            "image/png": "[encoded data removed]"
          },
          "metadata": {}
        }
      ]
    },
    {
      "cell_type": "code",
      "source": [
        "def pattern_5(ones_array):\n",
        "  \"\"\"\n",
        "  Make a pattern\n",
        "\n",
        "  Args:\n",
        "    ones_array: A matrix filled with ones\n",
        "  returns:\n",
        "    np.array: Modified array\n",
        "  \"\"\"\n",
        "  ones_array[:len(ones_array)//2:,len(ones_array)//2::]=2\n",
        "  ones_array[len(ones_array)//2:,len(ones_array)//2::]=3\n",
        "  return ones_array"
      ],
      "metadata": {
        "id": "mwxJ3l1OPu_S"
      },
      "execution_count": 91,
      "outputs": []
    },
    {
      "cell_type": "code",
      "source": [
        "pattern5 = pattern_5(fill_ones(4,4))\n",
        "print(pattern5)\n",
        "q5.check(pattern5, github)"
      ],
      "metadata": {
        "colab": {
          "base_uri": "https://localhost:8080/"
        },
        "id": "QtG4gkG5BwSL",
        "outputId": "fe2c668d-ca25-4e35-df78-751a88163a61"
      },
      "execution_count": 92,
      "outputs": [
        {
          "output_type": "stream",
          "name": "stdout",
          "text": [
            "[[1. 1. 2. 2.]\n",
            " [1. 1. 2. 2.]\n",
            " [1. 1. 3. 3.]\n",
            " [1. 1. 3. 3.]]\n",
            "✅ Accepted\n",
            "200\n"
          ]
        }
      ]
    },
    {
      "cell_type": "code",
      "source": [
        "plt.imshow(pattern5,cmap='gray')\n",
        "plt.show()"
      ],
      "metadata": {
        "colab": {
          "base_uri": "https://localhost:8080/",
          "height": 435
        },
        "id": "1RcN9v0rP_uC",
        "outputId": "e3cfc5db-bb20-4f96-ab75-2a8d2499e0aa"
      },
      "execution_count": 90,
      "outputs": [
        {
          "output_type": "display_data",
          "data": {
            "text/plain": [
              "<Figure size 640x480 with 1 Axes>"
            ],
            "image/png": "[encoded data removed]"
          },
          "metadata": {}
        }
      ]
    },
    {
      "cell_type": "code",
      "source": [
        "def pattern_6(ones_array):\n",
        "  \"\"\"\n",
        "  Make a pattern\n",
        "\n",
        "  Args:\n",
        "    ones_array: A matrix filled with ones\n",
        "  returns:\n",
        "    np.array: Modified array\n",
        "  \"\"\"\n",
        "  ones_array[len(ones_array)//2::,:len(ones_array)//2:]=3\n",
        "  ones_array[:len(ones_array)//2:,len(ones_array)//2:]=2\n",
        "  ones_array[len(ones_array)//2::,len(ones_array)//2:]=4\n",
        "  return ones_array"
      ],
      "metadata": {
        "id": "-GOsOKOoQCR4"
      },
      "execution_count": 95,
      "outputs": []
    },
    {
      "cell_type": "code",
      "source": [
        "pattern6 = pattern_6(fill_ones(10,10))\n",
        "print(pattern6)\n",
        "q6.check(pattern6, github)"
      ],
      "metadata": {
        "colab": {
          "base_uri": "https://localhost:8080/"
        },
        "id": "94DcAqJFB3O8",
        "outputId": "2ffffd02-6e3e-4f2c-aa5a-0696cad43d13"
      },
      "execution_count": 96,
      "outputs": [
        {
          "output_type": "stream",
          "name": "stdout",
          "text": [
            "[[1. 1. 1. 1. 1. 2. 2. 2. 2. 2.]\n",
            " [1. 1. 1. 1. 1. 2. 2. 2. 2. 2.]\n",
            " [1. 1. 1. 1. 1. 2. 2. 2. 2. 2.]\n",
            " [1. 1. 1. 1. 1. 2. 2. 2. 2. 2.]\n",
            " [1. 1. 1. 1. 1. 2. 2. 2. 2. 2.]\n",
            " [3. 3. 3. 3. 3. 4. 4. 4. 4. 4.]\n",
            " [3. 3. 3. 3. 3. 4. 4. 4. 4. 4.]\n",
            " [3. 3. 3. 3. 3. 4. 4. 4. 4. 4.]\n",
            " [3. 3. 3. 3. 3. 4. 4. 4. 4. 4.]\n",
            " [3. 3. 3. 3. 3. 4. 4. 4. 4. 4.]]\n",
            "✅ Accepted\n",
            "200\n"
          ]
        }
      ]
    },
    {
      "cell_type": "code",
      "source": [
        "plt.imshow(pattern6,cmap='gray')\n",
        "plt.show()"
      ],
      "metadata": {
        "colab": {
          "base_uri": "https://localhost:8080/",
          "height": 430
        },
        "id": "3P9LVHVHSnlp",
        "outputId": "218131d8-6f97-4af4-81f2-11b8f7615618"
      },
      "execution_count": 97,
      "outputs": [
        {
          "output_type": "display_data",
          "data": {
            "text/plain": [
              "<Figure size 640x480 with 1 Axes>"
            ],
            "image/png": "[encoded data removed]"
          },
          "metadata": {}
        }
      ]
    },
    {
      "cell_type": "code",
      "source": [
        "def pattern_7(ones_array):\n",
        "  \"\"\"\n",
        "  Make a pattern\n",
        "\n",
        "  Args:\n",
        "    ones_array: A matrix filled with ones\n",
        "  returns:\n",
        "    np.array: Modified array\n",
        "  \"\"\"\n",
        "  ones_array[1:len(ones_array)-1:,1:len(ones_array)-1:]=2\n",
        "  ones_array[2:len(ones_array)-2:,2:len(ones_array)-2:]=4\n",
        "  return ones_array"
      ],
      "metadata": {
        "id": "2cVLzqVOUjXk"
      },
      "execution_count": 134,
      "outputs": []
    },
    {
      "cell_type": "code",
      "source": [
        "pattern7 = pattern_7(fill_ones(8,8))\n",
        "print(pattern7)\n",
        "q7.check(pattern7, github)"
      ],
      "metadata": {
        "colab": {
          "base_uri": "https://localhost:8080/"
        },
        "id": "WjsAcCX3CRrS",
        "outputId": "c45d6182-7d56-4604-fde4-802a7358f371"
      },
      "execution_count": 135,
      "outputs": [
        {
          "output_type": "stream",
          "name": "stdout",
          "text": [
            "[[1. 1. 1. 1. 1. 1. 1. 1.]\n",
            " [1. 2. 2. 2. 2. 2. 2. 1.]\n",
            " [1. 2. 4. 4. 4. 4. 2. 1.]\n",
            " [1. 2. 4. 4. 4. 4. 2. 1.]\n",
            " [1. 2. 4. 4. 4. 4. 2. 1.]\n",
            " [1. 2. 4. 4. 4. 4. 2. 1.]\n",
            " [1. 2. 2. 2. 2. 2. 2. 1.]\n",
            " [1. 1. 1. 1. 1. 1. 1. 1.]]\n",
            "✅ Accepted\n",
            "200\n"
          ]
        }
      ]
    },
    {
      "cell_type": "code",
      "source": [
        "plt.imshow(pattern7,cmap='gray')\n",
        "plt.show()"
      ],
      "metadata": {
        "colab": {
          "base_uri": "https://localhost:8080/",
          "height": 430
        },
        "id": "ofybe_k9VGZ9",
        "outputId": "ba13c478-ae50-4705-9fbb-c92ac1b611a7"
      },
      "execution_count": 136,
      "outputs": [
        {
          "output_type": "display_data",
          "data": {
            "text/plain": [
              "<Figure size 640x480 with 1 Axes>"
            ],
            "image/png": "[encoded data removed]"
          },
          "metadata": {}
        }
      ]
    },
    {
      "cell_type": "code",
      "source": [
        "def chess(ones_array):\n",
        "  \"\"\"\n",
        "  Make a pattern\n",
        "\n",
        "  Args:\n",
        "    ones_array: A matrix filled with ones\n",
        "  returns:\n",
        "    np.array: Modified array\n",
        "  \"\"\"\n",
        "  ones_array[::2,::2]=2\n",
        "  ones_array[1::2,1::2]=2\n",
        "  return ones_array"
      ],
      "metadata": {
        "id": "qDF4XlK1ZXkz"
      },
      "execution_count": 127,
      "outputs": []
    },
    {
      "cell_type": "code",
      "source": [
        "chess1 = chess(fill_ones(12,12))\n",
        "print(chess1)\n",
        "q8.check(chess1, github)"
      ],
      "metadata": {
        "colab": {
          "base_uri": "https://localhost:8080/"
        },
        "id": "4oI3qNocCaIv",
        "outputId": "21ea672e-596b-41a2-9a37-c211d4296e3d"
      },
      "execution_count": 128,
      "outputs": [
        {
          "output_type": "stream",
          "name": "stdout",
          "text": [
            "[[2. 1. 2. 1. 2. 1. 2. 1. 2. 1. 2. 1.]\n",
            " [1. 2. 1. 2. 1. 2. 1. 2. 1. 2. 1. 2.]\n",
            " [2. 1. 2. 1. 2. 1. 2. 1. 2. 1. 2. 1.]\n",
            " [1. 2. 1. 2. 1. 2. 1. 2. 1. 2. 1. 2.]\n",
            " [2. 1. 2. 1. 2. 1. 2. 1. 2. 1. 2. 1.]\n",
            " [1. 2. 1. 2. 1. 2. 1. 2. 1. 2. 1. 2.]\n",
            " [2. 1. 2. 1. 2. 1. 2. 1. 2. 1. 2. 1.]\n",
            " [1. 2. 1. 2. 1. 2. 1. 2. 1. 2. 1. 2.]\n",
            " [2. 1. 2. 1. 2. 1. 2. 1. 2. 1. 2. 1.]\n",
            " [1. 2. 1. 2. 1. 2. 1. 2. 1. 2. 1. 2.]\n",
            " [2. 1. 2. 1. 2. 1. 2. 1. 2. 1. 2. 1.]\n",
            " [1. 2. 1. 2. 1. 2. 1. 2. 1. 2. 1. 2.]]\n",
            "✅ Accepted\n",
            "200\n"
          ]
        }
      ]
    },
    {
      "cell_type": "code",
      "source": [
        "plt.imshow(chess1,cmap='gray')\n",
        "plt.show()"
      ],
      "metadata": {
        "colab": {
          "base_uri": "https://localhost:8080/",
          "height": 430
        },
        "id": "vJFDjbRkZuKt",
        "outputId": "050aad44-5220-4e97-c51e-60bbc7cf9ca8"
      },
      "execution_count": 129,
      "outputs": [
        {
          "output_type": "display_data",
          "data": {
            "text/plain": [
              "<Figure size 640x480 with 1 Axes>"
            ],
            "image/png": "[encoded data removed]"
          },
          "metadata": {}
        }
      ]
    },
    {
      "cell_type": "code",
      "source": [],
      "metadata": {
        "id": "gO63lFeGZyXf"
      },
      "execution_count": null,
      "outputs": []
    }
  ]
}